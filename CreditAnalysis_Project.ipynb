{
  "nbformat": 4,
  "nbformat_minor": 0,
  "metadata": {
    "colab": {
      "provenance": [],
      "include_colab_link": true
    },
    "kernelspec": {
      "name": "python3",
      "display_name": "Python 3"
    },
    "language_info": {
      "name": "python"
    }
  },
  "cells": [
    {
      "cell_type": "markdown",
      "metadata": {
        "id": "view-in-github",
        "colab_type": "text"
      },
      "source": [
        "<a href=\"https://colab.research.google.com/github/blu3542/InfoSys/blob/main/CreditAnalysis_Project.ipynb\" target=\"_parent\"><img src=\"https://colab.research.google.com/assets/colab-badge.svg\" alt=\"Open In Colab\"/></a>"
      ]
    },
    {
      "cell_type": "code",
      "source": [
        "pip install pandas numpy matplotlib seaborn\n"
      ],
      "metadata": {
        "id": "vXB3NgK1LuMx"
      },
      "execution_count": null,
      "outputs": []
    },
    {
      "cell_type": "code",
      "source": [],
      "metadata": {
        "id": "R2ftCm3xf226"
      },
      "execution_count": null,
      "outputs": []
    },
    {
      "cell_type": "code",
      "source": [
        "import pandas as pd\n",
        "import numpy as np\n",
        "import matplotlib.pyplot as plt\n",
        "import seaborn as sb\n",
        "import requests"
      ],
      "metadata": {
        "id": "75m9JLNmORgu"
      },
      "execution_count": null,
      "outputs": []
    },
    {
      "cell_type": "code",
      "source": [
        "\n",
        "#Current API request is for aggregate data, does not provide speciifc indivduals. Good for anlayzing trends, such as number of complaints over the years given conditions\n",
        "#Import Consumer Complainta datbase API, making it easier to search through the database\n",
        "complaintsAPI = requests.get('https://www.consumerfinance.gov/data-research/consumer-complaints/search/api/v1/trends?field=complaint_what_happened&has_narrative=true&lens=overview&sub_lens_depth=10&trend_depth=10&trend_interval=year')\n",
        "print(complaintsAPI.text)\n",
        "#Test to see if it actually retrieved anything\n",
        "print(complaintsAPI.status_code)\n",
        "#If returns 200, complaints is a valid endpoint to access\n",
        "\n"
      ],
      "metadata": {
        "id": "kyLDLiTtf85N"
      },
      "execution_count": null,
      "outputs": []
    },
    {
      "cell_type": "code",
      "source": [
        "#Response JSON is nested\n",
        "complaints_json = complaintsAPI.json()\n",
        "aggregations = complaints_json['aggregations']\n",
        "date_range_brush = aggregations['dateRangeBrush']['dateRangeBrush']['buckets']\n",
        "\n",
        "# Create a list of dictionaries with the data you want to convert to a DataFrame\n",
        "readable_data = [{'date': bucket['key_as_string'], 'document_count': bucket['doc_count']} for bucket in date_range_brush]\n",
        "\n",
        "# Convert to DataFrame\n",
        "df = pd.DataFrame(readable_data)\n",
        "\n",
        "# Print the DataFrame to check\n",
        "print(df)\n",
        "\n",
        "\n",
        "# Assuming df is your DataFrame. Document count is a reprsentation of complaints\n",
        "plt.figure(figsize=(10, 5))\n",
        "plt.plot(df['date'], df['document_count'], marker='o')\n",
        "plt.title('Document Count Over Time')\n",
        "plt.xlabel('Year')\n",
        "plt.ylabel('Number of Documents')\n",
        "plt.xticks(rotation=45)  # Rotate the x-axis labels for better readability\n",
        "plt.tight_layout()  # Adjust layout to fit the x-axis labels\n",
        "plt.show()\n",
        "\n",
        "\n",
        "#original section, for non aggregate data\n",
        "#records = complaints_json['hits']['hits']  # The exact path might be different\n",
        "\n",
        "#flattened_data = [hit['_source'] for hit in records]\n",
        "\n",
        "# Create a DataFrame\n",
        "#complaints_df = pd.DataFrame(flattened_data)\n",
        "\n",
        "# Then, create a DataFrame from that list of records\n",
        "\n",
        "\n",
        "# Now, df should be structured in the way you expected\n",
        "#print(complaints_df.head())\n"
      ],
      "metadata": {
        "id": "r-zd9P7onBRG"
      },
      "execution_count": null,
      "outputs": []
    },
    {
      "cell_type": "code",
      "source": [
        "# Upload files...slow to uplaod from local machine, so opted for mounting from google drive\n",
        "#from google.colab import files\n",
        "#uploaded = files.upload()"
      ],
      "metadata": {
        "id": "vTRXHBm0Uodw"
      },
      "execution_count": null,
      "outputs": []
    },
    {
      "cell_type": "code",
      "source": [
        "#Upload files via google drive\n",
        "from google.colab import drive\n",
        "drive.mount('/content/drive')\n",
        "\n",
        "\n",
        "\n"
      ],
      "metadata": {
        "colab": {
          "base_uri": "https://localhost:8080/"
        },
        "id": "O8x8kjZwWnpa",
        "outputId": "7ebebc48-40d6-46dd-87df-79a1131d6ef0"
      },
      "execution_count": null,
      "outputs": [
        {
          "output_type": "stream",
          "name": "stdout",
          "text": [
            "Mounted at /content/drive\n"
          ]
        }
      ]
    },
    {
      "cell_type": "code",
      "source": [
        "#Allow for interaction with operating system (file management, etc)\n",
        "import os\n",
        "#print files that have been uploaded\n",
        "uploaded_files = os.listdir()\n",
        "print(uploaded_files)"
      ],
      "metadata": {
        "colab": {
          "base_uri": "https://localhost:8080/"
        },
        "id": "oeEB_XMhVmmL",
        "outputId": "c5c67200-346e-4d3d-c940-140615864e5c"
      },
      "execution_count": null,
      "outputs": [
        {
          "output_type": "stream",
          "name": "stdout",
          "text": [
            "['.config', 'drive', 'sample_data']\n"
          ]
        }
      ]
    },
    {
      "cell_type": "code",
      "source": [
        "file_path = '/content/drive/My Drive/complaints.csv'\n",
        "complaints = pd.read_csv(file_path)\n",
        "\n"
      ],
      "metadata": {
        "colab": {
          "base_uri": "https://localhost:8080/"
        },
        "id": "f-hmyiqYVoJe",
        "outputId": "08deb471-0b00-493c-b5f3-2f19c73b7c87"
      },
      "execution_count": null,
      "outputs": [
        {
          "output_type": "stream",
          "name": "stderr",
          "text": [
            "<ipython-input-6-a35e46312e12>:2: DtypeWarning: Columns (16) have mixed types. Specify dtype option on import or set low_memory=False.\n",
            "  complaints = pd.read_csv(file_path)\n"
          ]
        }
      ]
    },
    {
      "cell_type": "code",
      "source": [
        "print(complaints.head(10))"
      ],
      "metadata": {
        "id": "MLh9mzGeaDmj"
      },
      "execution_count": null,
      "outputs": []
    },
    {
      "cell_type": "code",
      "source": [
        "#Filter by the ones where consumer consent is provided\n",
        "consent_provided_complaints = complaints[complaints['Consumer consent provided?'] == 'Consent provided']\n",
        "pd.set_option('display.max_colwidth', None)\n",
        "pd.set_option('display.max_rows', None)\n",
        "# Now you can view the first 10 entries where consent was provided\n",
        "#print(consent_provided_complaints.head(10))\n",
        "grouped = consent_provided_complaints.groupby(['Product', 'Issue']).size().reset_index(name='Count')\n",
        "\n",
        "pd.set_option('display.max_colwidth', None)\n",
        "#print(grouped)\n",
        "\n",
        "filtered_grouped = grouped[grouped['Count'] > 5000]\n",
        "\n",
        "# Now, 'filtered_grouped' contains only rows where the count is greater than 5000\n",
        "# print(filtered_grouped)\n",
        "\n",
        "\n",
        "sorted_grouped = grouped.sort_values(by='Count', ascending=False)\n",
        "\n",
        "# Now, select the top 10 rows\n",
        "top_10_combos = sorted_grouped.head(10)\n",
        "\n",
        "# Display the top 10 product-issue combinations\n",
        "print(top_10_combos)\n"
      ],
      "metadata": {
        "id": "iv-bwtW_eu7n"
      },
      "execution_count": null,
      "outputs": []
    },
    {
      "cell_type": "markdown",
      "source": [
        "**Analyzing output of the previous cell (See Top10Complaints.png in files)**\n",
        "\n",
        "\n",
        "1. Examine entries 148 and 158:\n",
        "\n",
        "148: Product: Debt collection. Issue: Attempts to collect debt not owed.\n",
        "158: Product: Debt collection. Issue: Failure to provide written notification of debt.\n",
        "\n",
        "These entries suggest a possible infringement of Regulation F: The Fair Debt Collection Practices Act, which governs the collection of debts and provides protections against practices such as attempting to collect unowed debt and failing to notify debtors properly in writing.\n",
        "\n",
        "2. Examine entries 133, 132, 112, 111, 114, 137:\n",
        "\n",
        "133: Product: Credit reporting, credit repair services, or other personal consumer reports. Issue: Incorrect information on your report.\n",
        "132: Product: Credit reporting, credit repair services, or other personal consumer reports. Issue: Improper use of your report.\n",
        "112: Product: Credit reporting or other personal consumer reports. Issue: Incorrect information on your report.\n",
        "111: Product: Credit reporting or other personal consumer reports. Issue: Improper use of your report.\n",
        "114: Product: Credit reporting or other personal consumer reports. Issue: Company's inadequate investigation into an existing problem.\n",
        "137: Product: Credit reporting, credit repair services, or other personal consumer reports. Issue: Credit reporting company's inadequate investigation into an existing problem.\n",
        "\n",
        "3. The frequency of these issues highlights a trend of potential noncompliance with Regulation V: Fair Credit Reporting, which stipulates accurate credit information reporting and the diligent investigation of disputes.\n",
        "\n",
        "Notice entry 202:\n",
        "\n",
        "202: Product: Mortgage. Issue: Trouble during payment process.\n",
        "\n",
        "This entry suggests complications in the mortgage payment process, potentially pointing to a breach of Regulation E: Electronic Fund Transfers, which includes regulations on electronic payment systems.\n",
        "\n",
        "4. Notice entry 10:\n",
        "\n",
        "10: Product: Checking or savings account. Issue: Managing an account.\n",
        "\n",
        "This entry suggests there could be concerns with the way checking and savings accounts are handled, potentially indicating noncompliance with Regulation DD: Truth in Savings, which requires clear disclosure of account terms, and/or Regulation P: Privacy of Consumer Financial Information, which protects the privacy of consumer financial information. The generic nature of \"Managing an account\" requires further investigation to determine specific regulatory violations."
      ],
      "metadata": {
        "id": "CiTuVZ1SZnsn"
      }
    },
    {
      "cell_type": "code",
      "source": [
        "#Filter by the ones where the complaint was closed with monetary relief\n",
        "monetary_relief_complaints = complaints[complaints['Company response to consumer'] == 'Closed with monetary relief']\n",
        "# print(monetary_relief_complaints)\n",
        "\n",
        "\n",
        "monetary_grouped = monetary_relief_complaints.groupby(['Product', 'Issue']).size().reset_index(name='Count')\n",
        "monetary_grouped = monetary_grouped.sort_values(by='Count', ascending=False)\n",
        "\n",
        "#print(monetary_grouped)\n",
        "\n",
        "#select top 10\n",
        "top_10_monetary_combos = monetary_grouped.head(10)\n",
        "print(top_10_monetary_combos)\n",
        "\n",
        "\n",
        "\n",
        "#sort the ones where complaint was closed with monetary relief by reviewing the product and issues"
      ],
      "metadata": {
        "id": "XJdy_UEpRGrv"
      },
      "execution_count": null,
      "outputs": []
    },
    {
      "cell_type": "markdown",
      "source": [
        "**Analyzing the output of the previous cell (See Top10MonetaryRelief.png in files):**\n",
        "\n",
        "\n",
        "1. Managing an account (20,971 complaints) - This could relate to several regulations depending on the specifics of the management issue. However, it could potentially involve:\n",
        "\n",
        "Regulation E: Electronic Fund Transfers, if it involves electronic management of the account.\n",
        "Regulation DD: Truth in Savings, if it pertains to the disclosure of account terms.\n",
        "\n",
        "\n",
        "\n",
        "2. Problem with a purchase shown on your statement (13,719 complaints) - This issue could be related to:\n",
        "\n",
        "Regulation Z: Truth in Lending, if it's related to credit card billing.\n",
        "Regulation E: Electronic Fund Transfers, for debit card transaction issues.\n",
        "\n",
        "\n",
        "\n",
        "3. Fees or interest (7,315 complaints) - This issue likely pertains to:\n",
        "\n",
        "Regulation Z: Truth in Lending, which covers credit card interest rates and fee disclosures.\n",
        "Regulation DD: Truth in Savings, for issues related to savings and checking account fees.\n",
        "\n",
        "\n",
        "\n",
        "4. Account opening, closing, or management (5,760 complaints) - This could implicate:\n",
        "\n",
        "Regulation E: Electronic Fund Transfers, for issues with electronic access to the account during these processes.\n",
        "Regulation DD: Truth in Savings, if disclosures about the account are not properly made.\n",
        "\n",
        "\n",
        "\n",
        "5. Problems caused by funds being low (4,844 complaints) - This might relate to:\n",
        "\n",
        "Regulation Z: Truth in Lending, if it involves credit card over-limit fees or loan issues.\n",
        "Regulation DD: Truth in Savings, if it's related to overdraft fees for savings or checking accounts.\n",
        "\n",
        "\n",
        "\n",
        "6. Deposits and withdrawals (4,733 complaints) - This could be covered by:\n",
        "\n",
        "\n",
        "\n",
        "Regulation CC: Availability of Funds and Collection of Checks, if it involves check deposits.\n",
        "Regulation E: Electronic Fund Transfers, for electronic deposits and withdrawals.\n",
        "\n",
        "7. Billing disputes (4,705 complaints) - This issue falls under:\n",
        "\n",
        "\n",
        "\n",
        "Regulation Z: Truth in Lending, specifically the Fair Credit Billing Act, which deals with resolving billing errors on credit card accounts.\n",
        "\n",
        "\n",
        "\n",
        "8. Problem with a lender or other company charging... (4,104 complaints) - Without the end of the statement, it's difficult to pinpoint, but it could relate to:\n",
        "\n",
        "Regulation Z: Truth in Lending, if it involves lending practices and disclosures.\n",
        "\n",
        "\n",
        "\n",
        "9. Problem caused by funds being low (3,752 complaints) - As before, this could relate to:\n",
        "\n",
        "Regulation Z: Truth in Lending, for credit-related issues due to low funds.\n",
        "Regulation DD: Truth in Savings, for fee-related issues with accounts.\n",
        "\n",
        "\n",
        "\n",
        "10. Problem when making payments (3,515 complaints) - This might involve:\n",
        "\n",
        "Regulation E: Electronic Fund Transfers, if the payments are made electronically.\n",
        "Regulation Z: Truth in Lending, if it's related to credit payments.\n",
        "\n",
        "\n",
        "\n"
      ],
      "metadata": {
        "id": "tRYXWdrmVZkD"
      }
    }
  ]
}